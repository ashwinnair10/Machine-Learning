{
  "nbformat": 4,
  "nbformat_minor": 0,
  "metadata": {
    "colab": {
      "provenance": []
    },
    "kernelspec": {
      "name": "python3",
      "display_name": "Python 3"
    },
    "language_info": {
      "name": "python"
    }
  },
  "cells": [
    {
      "cell_type": "code",
      "execution_count": 1,
      "metadata": {
        "id": "q1J5E_8BdIQZ",
        "colab": {
          "base_uri": "https://localhost:8080/"
        },
        "outputId": "a15335dc-cbfd-4bc8-8bec-2e7d59571265"
      },
      "outputs": [
        {
          "output_type": "stream",
          "name": "stdout",
          "text": [
            "Drive already mounted at /content/drive; to attempt to forcibly remount, call drive.mount(\"/content/drive\", force_remount=True).\n"
          ]
        }
      ],
      "source": [
        "from google.colab import drive\n",
        "drive.mount(\"/content/drive\")"
      ]
    },
    {
      "cell_type": "code",
      "source": [
        "import pandas as pd\n",
        "import numpy as np\n",
        "import matplotlib.pyplot as plt\n",
        "import random"
      ],
      "metadata": {
        "id": "K_zqDSIRtBwB"
      },
      "execution_count": 2,
      "outputs": []
    },
    {
      "cell_type": "code",
      "source": [
        "xtr=pd.read_csv(\"/content/drive/MyDrive/ML/mnist/train_X.csv\")\n",
        "ytr=pd.read_csv(\"/content/drive/MyDrive/ML/mnist/train_label.csv\")\n",
        "xt=pd.read_csv(\"/content/drive/MyDrive/ML/mnist/test_X.csv\")\n",
        "yt=pd.read_csv(\"/content/drive/MyDrive/ML/mnist/test_label.csv\")"
      ],
      "metadata": {
        "id": "wl0Vu_OEtNBF"
      },
      "execution_count": 3,
      "outputs": []
    },
    {
      "cell_type": "code",
      "source": [
        "xtr=np.array(xtr).T\n",
        "ytr=np.array(ytr).T\n",
        "xt=np.array(xt).T\n",
        "yt=np.array(yt).T\n",
        "print(xtr.shape)\n",
        "print(ytr.shape)\n",
        "print(xt.shape)\n",
        "print(yt.shape)"
      ],
      "metadata": {
        "colab": {
          "base_uri": "https://localhost:8080/"
        },
        "id": "mA82_PACtkw0",
        "outputId": "747a1a33-48ac-4862-cc99-be782b853997"
      },
      "execution_count": 4,
      "outputs": [
        {
          "output_type": "stream",
          "name": "stdout",
          "text": [
            "(784, 999)\n",
            "(10, 999)\n",
            "(784, 349)\n",
            "(10, 349)\n"
          ]
        }
      ]
    },
    {
      "cell_type": "code",
      "source": [
        "plt.imshow(xtr[:,np.random.randint(0,999)].reshape((28,28)),cmap='grey')\n",
        "plt.show()"
      ],
      "metadata": {
        "colab": {
          "base_uri": "https://localhost:8080/",
          "height": 430
        },
        "id": "sZbtm5OBt5KD",
        "outputId": "8b848e5b-de4b-4ad2-f014-e69d3437129c"
      },
      "execution_count": 5,
      "outputs": [
        {
          "output_type": "display_data",
          "data": {
            "text/plain": [
              "<Figure size 640x480 with 1 Axes>"
            ],
            "image/png": "[encoded data removed]"
          },
          "metadata": {}
        }
      ]
    },
    {
      "cell_type": "code",
      "source": [
        "def relu(x):\n",
        "  return np.maximum(0,x)\n",
        "def drelu(x):\n",
        "  return (x>0).astype(int)\n",
        "def softmax(x):\n",
        "  exp=np.exp(x-np.max(x,axis=0,keepdims=True))\n",
        "  return exp/np.sum(exp,axis=0,keepdims=True)"
      ],
      "metadata": {
        "id": "ubccAHejuMR2"
      },
      "execution_count": 6,
      "outputs": []
    },
    {
      "cell_type": "code",
      "source": [
        "def forward(x,w,b):\n",
        "  z=[]\n",
        "  a=[]\n",
        "  a.append(x)\n",
        "  for i in range(len(w)-1):\n",
        "    z.append(np.dot(w[i],a[-1])+b[i])\n",
        "    a.append(relu(z[i]))\n",
        "  z.append(np.dot(w[-1],a[-1])+b[-1])\n",
        "  a.append(softmax(z[-1]))\n",
        "  return z,a"
      ],
      "metadata": {
        "id": "5gA9oS5UvL9l"
      },
      "execution_count": 7,
      "outputs": []
    },
    {
      "cell_type": "code",
      "source": [
        "def cost(a,y):\n",
        "  m=y.shape[1]\n",
        "  e=1e-100\n",
        "  return -(1/m)*np.sum(y*np.log(a+e))"
      ],
      "metadata": {
        "id": "bF9Z2-whwgbN"
      },
      "execution_count": 8,
      "outputs": []
    },
    {
      "cell_type": "code",
      "source": [
        "def backward(x,y,w,b,z,a):\n",
        "  m=y.shape[1]\n",
        "  dz=[]\n",
        "  dw=[]\n",
        "  db=[]\n",
        "  dz.append(a[-1]-y)\n",
        "  dw.append((1/m)*np.dot(dz[-1],a[-2].T))\n",
        "  db.append((1/m)*np.sum(dz[-1],axis=1,keepdims=True))\n",
        "\n",
        "  for i in range(len(w)-1):\n",
        "    dz.append(np.dot(w[-1-i].T,dz[-1])*drelu(a[-2-i]))\n",
        "    dw.append((1/m)*np.dot(dz[-1],a[-3-i].T))\n",
        "    db.append((1/m)*np.sum(dz[-1],axis=1,keepdims=True))\n",
        "\n",
        "  return dw,db"
      ],
      "metadata": {
        "id": "gwfqwi0CxMyv"
      },
      "execution_count": 43,
      "outputs": []
    },
    {
      "cell_type": "code",
      "source": [
        "def update(w,b,dw,db,lr):\n",
        "  for i in range(len(w)):\n",
        "    w[i]-=lr*dw[-1-i]\n",
        "    b[i]-=lr*db[-1-i]\n",
        "  return w,b"
      ],
      "metadata": {
        "id": "pg3ozvQc0N4m"
      },
      "execution_count": 10,
      "outputs": []
    },
    {
      "cell_type": "code",
      "source": [
        "def init(n):\n",
        "  w=[]\n",
        "  b=[]\n",
        "  for i in range(len(n)-1):\n",
        "    w.append(np.random.randn(n[i+1],n[i])*0.01)\n",
        "    b.append(np.zeros((n[i+1],1)))\n",
        "  print(\"w-shape\")\n",
        "  for i in w:\n",
        "    print(i.shape)\n",
        "  print(\"b.shape\")\n",
        "  for i in b:\n",
        "    print(i.shape)\n",
        "  return w,b"
      ],
      "metadata": {
        "id": "3L7waHvp0hgl"
      },
      "execution_count": 11,
      "outputs": []
    },
    {
      "cell_type": "code",
      "source": [
        "import random"
      ],
      "metadata": {
        "id": "NDg8i1rsULWz"
      },
      "execution_count": 12,
      "outputs": []
    },
    {
      "cell_type": "code",
      "source": [
        "w,b=init([784,500,150,10])\n",
        "cl=[]\n",
        "for i in range(200):\n",
        "  for j in range(int(999/100)):\n",
        "    idx=random.sample(range(0,999),100)\n",
        "    z,a=forward(xtr[:,idx],w,b)\n",
        "    c=cost(a[-1],ytr[:,idx])\n",
        "    cl.append(c)\n",
        "    dw,db=backward(xtr[:,idx],ytr[:,idx],w,b,z,a)\n",
        "    w,b=update(w,b,dw,db,0.001)"
      ],
      "metadata": {
        "colab": {
          "base_uri": "https://localhost:8080/"
        },
        "id": "0tHCqXVkNw0T",
        "outputId": "49c0b1f7-0a52-4497-9548-7f093cfb050f"
      },
      "execution_count": 26,
      "outputs": [
        {
          "output_type": "stream",
          "name": "stdout",
          "text": [
            "w-shape\n",
            "(500, 784)\n",
            "(150, 500)\n",
            "(10, 150)\n",
            "b.shape\n",
            "(500, 1)\n",
            "(150, 1)\n",
            "(10, 1)\n"
          ]
        }
      ]
    },
    {
      "cell_type": "code",
      "source": [
        "z,a=forward(xtr,w,b)\n",
        "yp=np.argmax(a[-1],axis=0)\n",
        "print(yp.shape)"
      ],
      "metadata": {
        "colab": {
          "base_uri": "https://localhost:8080/"
        },
        "id": "juuSWzifQNqU",
        "outputId": "ac5c4f88-ee80-4200-a95e-a37b88d66e39"
      },
      "execution_count": 27,
      "outputs": [
        {
          "output_type": "stream",
          "name": "stdout",
          "text": [
            "(999,)\n"
          ]
        }
      ]
    },
    {
      "cell_type": "code",
      "source": [
        "plt.plot(np.arange(200*int(999/100)),cl)\n",
        "plt.show()"
      ],
      "metadata": {
        "colab": {
          "base_uri": "https://localhost:8080/",
          "height": 430
        },
        "id": "MslGgpTyRHl6",
        "outputId": "70dd06b3-e67c-452b-d29f-d8e57a0e384c"
      },
      "execution_count": 28,
      "outputs": [
        {
          "output_type": "display_data",
          "data": {
            "text/plain": [
              "<Figure size 640x480 with 1 Axes>"
            ],
            "image/png": "[encoded data removed]"
          },
          "metadata": {}
        }
      ]
    },
    {
      "cell_type": "code",
      "source": [
        "from sklearn.metrics import accuracy_score\n",
        "print(accuracy_score(np.argmax(ytr,axis=0),yp)*100,\"%\")"
      ],
      "metadata": {
        "colab": {
          "base_uri": "https://localhost:8080/"
        },
        "id": "src7kqBOQeVj",
        "outputId": "02e35123-fa45-480b-e27e-de60901cc044"
      },
      "execution_count": 29,
      "outputs": [
        {
          "output_type": "stream",
          "name": "stdout",
          "text": [
            "100.0 %\n"
          ]
        }
      ]
    },
    {
      "cell_type": "code",
      "source": [
        "z,a=forward(xt,w,b)\n",
        "yp=np.argmax(a[-1],axis=0)\n",
        "print(accuracy_score(np.argmax(yt,axis=0),yp)*100,\"%\")"
      ],
      "metadata": {
        "colab": {
          "base_uri": "https://localhost:8080/"
        },
        "id": "yejuwZ0TSluA",
        "outputId": "425e1113-71e1-4bc5-a7cd-f3704e04a6a0"
      },
      "execution_count": 41,
      "outputs": [
        {
          "output_type": "stream",
          "name": "stdout",
          "text": [
            "88.53868194842407 %\n"
          ]
        }
      ]
    },
    {
      "cell_type": "code",
      "source": [
        "k=np.random.randint(0,350)\n",
        "plt.imshow(xt[:,k].reshape((28,28)),cmap='grey')\n",
        "plt.show()\n",
        "print(\"PREDICTED = \",yp[k])"
      ],
      "metadata": {
        "colab": {
          "base_uri": "https://localhost:8080/",
          "height": 447
        },
        "id": "w94jLwEzTDVd",
        "outputId": "714b38ef-da05-4353-9fc5-891321afb53f"
      },
      "execution_count": 39,
      "outputs": [
        {
          "output_type": "display_data",
          "data": {
            "text/plain": [
              "<Figure size 640x480 with 1 Axes>"
            ],
            "image/png": "[encoded data removed]"
          },
          "metadata": {}
        },
        {
          "output_type": "stream",
          "name": "stdout",
          "text": [
            "PREDICTED =  9\n"
          ]
        }
      ]
    }
  ]
}