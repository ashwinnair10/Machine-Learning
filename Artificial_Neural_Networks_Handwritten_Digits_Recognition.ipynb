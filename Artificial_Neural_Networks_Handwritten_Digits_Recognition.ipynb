{
  "nbformat": 4,
  "nbformat_minor": 0,
  "metadata": {
    "colab": {
      "provenance": []
    },
    "kernelspec": {
      "name": "python3",
      "display_name": "Python 3"
    },
    "language_info": {
      "name": "python"
    }
  },
  "cells": [
    {
      "cell_type": "code",
      "execution_count": 1,
      "metadata": {
        "colab": {
          "base_uri": "https://localhost:8080/"
        },
        "id": "NT5ihdf148Tn",
        "outputId": "07af8e45-9f53-4c5f-bedf-82f405b26d78"
      },
      "outputs": [
        {
          "output_type": "stream",
          "name": "stdout",
          "text": [
            "Drive already mounted at /content/drive/; to attempt to forcibly remount, call drive.mount(\"/content/drive/\", force_remount=True).\n"
          ]
        }
      ],
      "source": [
        "from google.colab import drive\n",
        "drive.mount('/content/drive/')"
      ]
    },
    {
      "cell_type": "code",
      "source": [
        "import pandas as pd\n",
        "import numpy as np\n",
        "import matplotlib.pyplot as plt\n",
        "import random\n",
        "from sklearn.metrics import accuracy_score"
      ],
      "metadata": {
        "id": "O2BS7maXAfyD"
      },
      "execution_count": 2,
      "outputs": []
    },
    {
      "cell_type": "code",
      "source": [
        "xtr=pd.read_csv('/content/drive/MyDrive/ML/mnist/train_X.csv')\n",
        "ytr=pd.read_csv('/content/drive/MyDrive/ML/mnist/train_label.csv')\n",
        "xt=pd.read_csv('/content/drive/MyDrive/ML/mnist/test_X.csv')\n",
        "yt=pd.read_csv('/content/drive/MyDrive/ML/mnist/test_label.csv')\n",
        "xtr=np.array(xtr).T\n",
        "ytr=np.array(ytr).T\n",
        "xt=np.array(xt).T\n",
        "yt=np.array(yt).T"
      ],
      "metadata": {
        "id": "5nUdSdcb5J8v"
      },
      "execution_count": 3,
      "outputs": []
    },
    {
      "cell_type": "code",
      "source": [
        "print(xtr.shape)\n",
        "print(ytr.shape)\n",
        "print(xt.shape)\n",
        "print(yt.shape)"
      ],
      "metadata": {
        "colab": {
          "base_uri": "https://localhost:8080/"
        },
        "id": "UErM1dOZAilK",
        "outputId": "76798cc3-900a-4698-a51c-d461f0deb8e4"
      },
      "execution_count": 4,
      "outputs": [
        {
          "output_type": "stream",
          "name": "stdout",
          "text": [
            "(784, 999)\n",
            "(10, 999)\n",
            "(784, 349)\n",
            "(10, 349)\n"
          ]
        }
      ]
    },
    {
      "cell_type": "code",
      "source": [
        "plt.imshow(xtr[:,0].reshape((28,28)),cmap='grey')\n",
        "plt.show()"
      ],
      "metadata": {
        "colab": {
          "base_uri": "https://localhost:8080/",
          "height": 430
        },
        "id": "H7GfNyoK5rmd",
        "outputId": "d65396c3-17b6-4537-8072-3f0fbb6d12ce"
      },
      "execution_count": 5,
      "outputs": [
        {
          "output_type": "display_data",
          "data": {
            "text/plain": [
              "<Figure size 640x480 with 1 Axes>"
            ],
            "image/png": "[encoded data removed]"
          },
          "metadata": {}
        }
      ]
    },
    {
      "cell_type": "code",
      "source": [
        "def relu(x):\n",
        "  return np.maximum(x,0)\n",
        "def drelu(x):\n",
        "  return (x>0).astype(int)\n",
        "def softmax(x):\n",
        "  exp=np.exp(x-np.max(x,axis=0,keepdims=True))\n",
        "  return exp/np.sum(exp,axis=0,keepdims=True)"
      ],
      "metadata": {
        "id": "Q9z31ewq5-Sl"
      },
      "execution_count": 6,
      "outputs": []
    },
    {
      "cell_type": "code",
      "source": [
        "def init(n):\n",
        "  w=[]\n",
        "  b=[]\n",
        "  for i in range(len(n)-1):\n",
        "    w.append(np.random.randn(n[i+1],n[i])*0.01)\n",
        "    b.append(np.zeros((n[i+1],1)))\n",
        "  return w,b"
      ],
      "metadata": {
        "id": "ESVyj6Wy6ZHc"
      },
      "execution_count": 7,
      "outputs": []
    },
    {
      "cell_type": "code",
      "source": [
        "def forward(x,w,b):\n",
        "  z=[]\n",
        "  a=[]\n",
        "  a.append(x)\n",
        "  for i in range(len(w)-1):\n",
        "    z.append(np.dot(w[i],a[-1])+b[i])\n",
        "    a.append(relu(z[-1]))\n",
        "  z.append(np.dot(w[-1],a[-1])+b[-1])\n",
        "  a.append(softmax(z[-1]))\n",
        "  return z,a"
      ],
      "metadata": {
        "id": "CJdMO-x26nV1"
      },
      "execution_count": 8,
      "outputs": []
    },
    {
      "cell_type": "code",
      "source": [
        "def cost(a,y):\n",
        "  m=y.shape[1]\n",
        "  return -(1/m)*np.sum(y*np.log(a))"
      ],
      "metadata": {
        "id": "JZ1k9B5P7CI2"
      },
      "execution_count": 9,
      "outputs": []
    },
    {
      "cell_type": "code",
      "source": [
        "def backward(x,y,w,b,z,a):\n",
        "  dz=[]\n",
        "  dw=[]\n",
        "  db=[]\n",
        "  m=y.shape[1]\n",
        "  dz.append(a[-1]-y)\n",
        "  dw.append((1/m)*np.dot(dz[-1],a[-2].T))\n",
        "  db.append((1/m)*np.sum(dz[-1],axis=1,keepdims=True))\n",
        "  for i in range(len(w)-1):\n",
        "    dz.append(np.dot(w[-1-i].T,dz[-1])*drelu(a[-2-i]))\n",
        "    dw.append((1/m)*np.dot(dz[-1],a[-3-i].T))\n",
        "    db.append((1/m)*np.sum(dz[-1],axis=1,keepdims=True))\n",
        "  return dw,db"
      ],
      "metadata": {
        "id": "hU1iLFKw7I-m"
      },
      "execution_count": 10,
      "outputs": []
    },
    {
      "cell_type": "code",
      "source": [
        "def update(w,b,dw,db,lr):\n",
        "  for i in range(len(w)):\n",
        "    w[i]-=lr*dw[-1-i]\n",
        "    b[i]-=lr*db[-1-i]\n",
        "  return w,b"
      ],
      "metadata": {
        "id": "OjpslIVM8fVb"
      },
      "execution_count": 11,
      "outputs": []
    },
    {
      "cell_type": "code",
      "source": [
        "def model(x,y,lr,it,bs,n):\n",
        "  cl=[]\n",
        "  w,b=init(n)\n",
        "  for i in range(it):\n",
        "    for j in range(int(x.shape[1]/bs)):\n",
        "      id=random.sample(range(0,x.shape[1]),bs)\n",
        "      z,a=forward(x[:,id],w,b)\n",
        "      cl.append(cost(a[-1],y[:,id]))\n",
        "      dw,db=backward(x[:,id],y[:,id],w,b,z,a)\n",
        "      w,b=update(w,b,dw,db,lr)\n",
        "  plt.plot(np.arange(it*(int(x.shape[1]/bs))),cl)\n",
        "  plt.show()\n",
        "  return w,b"
      ],
      "metadata": {
        "id": "c4YGRq118ovd"
      },
      "execution_count": 12,
      "outputs": []
    },
    {
      "cell_type": "code",
      "source": [
        "def predict(x,w,b):\n",
        "  z,a=forward(x,w,b)\n",
        "  return np.argmax(a[-1],axis=0)"
      ],
      "metadata": {
        "id": "PhfJO1EL-J4i"
      },
      "execution_count": 13,
      "outputs": []
    },
    {
      "cell_type": "code",
      "source": [
        "#lr->learning rate\n",
        "#it->iterations\n",
        "#bs->batch size for gradient descent\n",
        "#n->neurons per layer [784,...hidden layer neurons...,10]\n",
        "lr=0.001\n",
        "it=100\n",
        "bs=300\n",
        "n=[784,200,100,10]\n",
        "w,b=model(xtr,ytr,lr,it,bs,n)"
      ],
      "metadata": {
        "colab": {
          "base_uri": "https://localhost:8080/",
          "height": 430
        },
        "id": "0iG2UtI09a47",
        "outputId": "7496a37e-672b-4dc1-cacc-b135a3e44a54"
      },
      "execution_count": 16,
      "outputs": [
        {
          "output_type": "display_data",
          "data": {
            "text/plain": [
              "<Figure size 640x480 with 1 Axes>"
            ],
            "image/png": "[encoded data removed]"
          },
          "metadata": {}
        }
      ]
    },
    {
      "cell_type": "code",
      "source": [
        "ytp=predict(xtr,w,b)\n",
        "print(\"Training accuracy: \",accuracy_score(np.argmax(ytr,axis=0),ytp)*100,\"%\")\n",
        "yp=predict(xt,w,b)\n",
        "print(\"Test accuracy: \",accuracy_score(np.argmax(yt,axis=0),yp)*100,\"%\")"
      ],
      "metadata": {
        "colab": {
          "base_uri": "https://localhost:8080/"
        },
        "id": "AI2Mfdom-bPa",
        "outputId": "16c4fdae-da9b-43bf-cb29-bb7f72da807f"
      },
      "execution_count": 17,
      "outputs": [
        {
          "output_type": "stream",
          "name": "stdout",
          "text": [
            "Training accuracy:  92.1921921921922 %\n",
            "Test accuracy:  83.3810888252149 %\n"
          ]
        }
      ]
    },
    {
      "cell_type": "code",
      "source": [
        "k=np.random.randint(0,xt.shape[1])\n",
        "plt.imshow(xt[:,k].reshape((28,28)),cmap='grey')\n",
        "plt.show()\n",
        "print(\"PREDICTED : \",yp[k])"
      ],
      "metadata": {
        "colab": {
          "base_uri": "https://localhost:8080/",
          "height": 447
        },
        "id": "2QQRsT2hAxNN",
        "outputId": "ab1a545b-197f-45bf-b57e-c1fcee87b509"
      },
      "execution_count": 21,
      "outputs": [
        {
          "output_type": "display_data",
          "data": {
            "text/plain": [
              "<Figure size 640x480 with 1 Axes>"
            ],
            "image/png": "[encoded data removed]"
          },
          "metadata": {}
        },
        {
          "output_type": "stream",
          "name": "stdout",
          "text": [
            "PREDICTED :  5\n"
          ]
        }
      ]
    }
  ]
}